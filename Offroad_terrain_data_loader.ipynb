{
  "nbformat": 4,
  "nbformat_minor": 0,
  "metadata": {
    "colab": {
      "name": "Offroad_terrain-data-loader.ipynb",
      "provenance": [],
      "collapsed_sections": [],
      "mount_file_id": "17VtwCqnhtO2NsK5wFq1mmovO5k2tl4Rk",
      "authorship_tag": "ABX9TyPzLzyVkPk8R+eR9EaWR0Ne",
      "include_colab_link": true
    },
    "kernelspec": {
      "name": "python3",
      "display_name": "Python 3"
    },
    "language_info": {
      "name": "python"
    }
  },
  "cells": [
    {
      "cell_type": "markdown",
      "metadata": {
        "id": "view-in-github",
        "colab_type": "text"
      },
      "source": [
        "<a href=\"https://colab.research.google.com/github/s3nh/super-happiness/blob/main/Offroad_terrain_data_loader.ipynb\" target=\"_parent\"><img src=\"https://colab.research.google.com/assets/colab-badge.svg\" alt=\"Open In Colab\"/></a>"
      ]
    },
    {
      "cell_type": "code",
      "execution_count": 1,
      "metadata": {
        "id": "CVWLzQqHOv2l"
      },
      "outputs": [],
      "source": [
        "import torch\n",
        "import numpy as np \n",
        "from typing import List, Dict, Union\n",
        "from typing import Any, TypeVar"
      ]
    },
    {
      "cell_type": "code",
      "source": [
        "\n",
        "#!pip install segmentation_models_pytorch"
      ],
      "metadata": {
        "id": "yMqIi6VqPBgG"
      },
      "execution_count": 4,
      "outputs": []
    },
    {
      "cell_type": "code",
      "source": [
        "import os \n",
        "import pathlib\n",
        "from pathlib import Path"
      ],
      "metadata": {
        "id": "1td958bOPABj"
      },
      "execution_count": 14,
      "outputs": []
    },
    {
      "cell_type": "code",
      "source": [
        "# At first it\n",
        "DATA_PATH: str = '/content/drive/MyDrive/Colab/offroat-terrain'"
      ],
      "metadata": {
        "id": "gJ8I6nUGTL4r"
      },
      "execution_count": 5,
      "outputs": []
    },
    {
      "cell_type": "code",
      "source": [
        "# files \n",
        "\n",
        "os.listdir(DATA_PATH)"
      ],
      "metadata": {
        "colab": {
          "base_uri": "https://localhost:8080/"
        },
        "id": "xlB5gxj8WyW9",
        "outputId": "2204d633-a957-4577-c9b4-7e89a7d65244"
      },
      "execution_count": 8,
      "outputs": [
        {
          "output_type": "execute_result",
          "data": {
            "text/plain": [
              "['ImageLabels', 'Images', 'SensorData']"
            ]
          },
          "metadata": {},
          "execution_count": 8
        }
      ]
    },
    {
      "cell_type": "code",
      "source": [
        "image_path: pathlib.Path = Path(DATA_PATH, 'Images')"
      ],
      "metadata": {
        "id": "B8DJy5G7XpFl"
      },
      "execution_count": 15,
      "outputs": []
    },
    {
      "cell_type": "code",
      "source": [
        "labels_path: pathlib.Path = Path(DATA_PATH, 'ImageLabels')"
      ],
      "metadata": {
        "id": "cwv28IagXtdK"
      },
      "execution_count": 16,
      "outputs": []
    },
    {
      "cell_type": "code",
      "source": [
        "sensor_path: pathlib.Path = Path(DATA_PATH, 'SensorData')"
      ],
      "metadata": {
        "id": "0pCEXUhzX25G"
      },
      "execution_count": 17,
      "outputs": []
    },
    {
      "cell_type": "code",
      "source": [
        "images = list(image_path.rglob('*'))"
      ],
      "metadata": {
        "id": "htN9fbJHXVGq"
      },
      "execution_count": 20,
      "outputs": []
    },
    {
      "cell_type": "code",
      "source": [
        "print(len(images))\n"
      ],
      "metadata": {
        "colab": {
          "base_uri": "https://localhost:8080/"
        },
        "id": "wUC5zatKXb5G",
        "outputId": "841c8170-0770-4644-ab36-5a2be09ae249"
      },
      "execution_count": 21,
      "outputs": [
        {
          "output_type": "stream",
          "name": "stdout",
          "text": [
            "12736\n"
          ]
        }
      ]
    },
    {
      "cell_type": "code",
      "source": [
        "labels_list=  list(labels_path.rglob('*'))"
      ],
      "metadata": {
        "id": "rv8KKTGfYU6v"
      },
      "execution_count": 25,
      "outputs": []
    },
    {
      "cell_type": "code",
      "source": [
        "import pandas as pd"
      ],
      "metadata": {
        "id": "Cxg7LK8nYbhW"
      },
      "execution_count": 24,
      "outputs": []
    },
    {
      "cell_type": "code",
      "source": [
        "labels_one = pd.read_csv(labels_list[0])\n",
        "labels_second = pd.read_csv(labels_list[1])"
      ],
      "metadata": {
        "id": "vCrMDMF7YhPD"
      },
      "execution_count": 26,
      "outputs": []
    },
    {
      "cell_type": "code",
      "source": [
        ""
      ],
      "metadata": {
        "id": "_bZ5SfNnYpcF"
      },
      "execution_count": 27,
      "outputs": []
    },
    {
      "cell_type": "code",
      "source": [
        ""
      ],
      "metadata": {
        "id": "AylynEDGYstH"
      },
      "execution_count": null,
      "outputs": []
    }
  ]
}